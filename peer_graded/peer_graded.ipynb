{
 "cells": [
  {
   "cell_type": "markdown",
   "id": "80ff32f0",
   "metadata": {},
   "source": [
    "peer_graded.ipynb"
   ]
  },
  {
   "cell_type": "markdown",
   "id": "47d6a399",
   "metadata": {},
   "source": [
    "this is the first peer graded assignment in the IBM data science course"
   ]
  },
  {
   "cell_type": "markdown",
   "id": "1da266fb",
   "metadata": {},
   "source": [
    "1. Python\n",
    "2. R\n",
    "3. SQL \n",
    "4. Julia\n",
    "5. Scala"
   ]
  },
  {
   "cell_type": "markdown",
   "id": "6e9da71f",
   "metadata": {},
   "source": [
    "1. Pandas\n",
    "2. Numpy\n",
    "3. ggplot\n"
   ]
  },
  {
   "cell_type": "markdown",
   "id": "5844a94f",
   "metadata": {},
   "source": [
    "| Stack | Language |\n",
    "|:---------|:--------:|\n",
    "| Cleaning | Python \n",
    "| Database| SQL \n",
    "| Analysis/Visual | R "
   ]
  },
  {
   "cell_type": "markdown",
   "id": "326062cd",
   "metadata": {},
   "source": [
    "<h1> Arithmetic Introduction</h1>"
   ]
  },
  {
   "cell_type": "code",
   "execution_count": 14,
   "id": "a9a40fc9",
   "metadata": {},
   "outputs": [
    {
     "data": {
      "text/plain": [
       "47"
      ]
     },
     "execution_count": 14,
     "metadata": {},
     "output_type": "execute_result"
    }
   ],
   "source": [
    "23 + (4 * 6)"
   ]
  },
  {
   "cell_type": "code",
   "execution_count": 15,
   "id": "d13c1cff",
   "metadata": {},
   "outputs": [
    {
     "data": {
      "text/plain": [
       "3.0"
      ]
     },
     "execution_count": 15,
     "metadata": {},
     "output_type": "execute_result"
    }
   ],
   "source": [
    "mins = 180\n",
    "hours = mins / 60\n",
    "hours"
   ]
  },
  {
   "cell_type": "markdown",
   "id": "9c350d9c",
   "metadata": {},
   "source": [
    "This is an unordered list of objectives\n",
    "- create unordered list\n",
    "- use arithmetic expression in markdown\n",
    "- use code cell to convert minutes to hours\n",
    "- create a table in a markdown cell\n"
   ]
  },
  {
   "cell_type": "markdown",
   "id": "d67dbfa0",
   "metadata": {},
   "source": [
    "Name: Jonathan Alexandris\n"
   ]
  }
 ],
 "metadata": {
  "kernelspec": {
   "display_name": "Python 3",
   "language": "python",
   "name": "python3"
  },
  "language_info": {
   "codemirror_mode": {
    "name": "ipython",
    "version": 3
   },
   "file_extension": ".py",
   "mimetype": "text/x-python",
   "name": "python",
   "nbconvert_exporter": "python",
   "pygments_lexer": "ipython3",
   "version": "3.11.9"
  }
 },
 "nbformat": 4,
 "nbformat_minor": 5
}
